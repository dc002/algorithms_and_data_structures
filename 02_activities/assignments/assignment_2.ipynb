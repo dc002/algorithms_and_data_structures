{
 "cells": [
  {
   "cell_type": "markdown",
   "metadata": {},
   "source": [
    "# Practice Interview\n",
    "\n",
    "## Objective\n",
    "\n",
    "_*The partner assignment aims to provide participants with the opportunity to practice coding in an interview context. You will analyze your partner's Assignment 1. Moreover, code reviews are common practice in a software development team. This assignment should give you a taste of the code review process.*_\n",
    "\n",
    "## Group Size\n",
    "\n",
    "Each group should have 2 people. You will be assigned a partner\n",
    "\n",
    "## Parts:\n",
    "- Part 1: Complete 1 of 3 questions\n",
    "- Part 2: Review your partner's Assignment 1 submission\n",
    "- Part 3: Perform code review of your partner's assignment 1 by answering the questions below\n",
    "- Part 3: Reflect on Assignment 1 and Assignment 2\n",
    "\n",
    "## Part 1:\n",
    "\n",
    "_*You will be assigned one of three problems based of your first name. Enter your first name, in all lower case, execute the code below, and that will tell you your assigned problem. Include the output as part of your submission (do not clear the output). The problems are based-off problems from Leetcode.*_"
   ]
  },
  {
   "cell_type": "code",
   "execution_count": 1,
   "metadata": {},
   "outputs": [
    {
     "name": "stdout",
     "output_type": "stream",
     "text": [
      "3\n"
     ]
    }
   ],
   "source": [
    "import hashlib\n",
    "\n",
    "def hash_to_range(input_string: str) -> int:\n",
    "     hash_object = hashlib.sha256(input_string.encode())\n",
    "     hash_int = int(hash_object.hexdigest(), 16)\n",
    "     return (hash_int % 3) + 1\n",
    "input_string = \"doren\"\n",
    "result = hash_to_range(input_string)\n",
    "print(result)\n"
   ]
  },
  {
   "cell_type": "markdown",
   "metadata": {},
   "source": [
    "<details>\n",
    "  <summary>Question 1</summary>\n",
    "\n",
    "  # Question One: Check Duplicates in Tree\n",
    "\n",
    "  Given the `root` of a binary tree, check whether it is contains a duplicate value. If a duplicate exists, return the duplicate value. If there are multiple duplicates, return the one with the closest distance to the root. If no duplicate exists, return -1.\n",
    "\n",
    "  ## Examples\n",
    "\n",
    "  ### Example 1\n",
    "\n",
    "  ![](./images/q1_ex1.png)\n",
    "\n",
    "  Input: `root = [1, 2, 2, 3, 5, 6, 7]` *What traversal method is this?*.    BFS (or Lever Order Traversal)\n",
    "\n",
    "  Output: 2\n",
    "\n",
    "  ### Example 2\n",
    "\n",
    "  ![](./images/q1_ex2.png)\n",
    "\n",
    "  Input: `root = [1, 10, 2, 3, 10, 12, 12]`\n",
    "\n",
    "  Output: 10\n",
    "\n",
    "  ### Example 3\n",
    "\n",
    "  ![](./images/q1_ex3.png)\n",
    "\n",
    "  Input: `root = [10, 9, 8, 7]`\n",
    "\n",
    "  Output: -1\n",
    "\n",
    "</details>\n",
    "\n",
    "#### Starter Code for Question 1"
   ]
  },
  {
   "cell_type": "code",
   "execution_count": 2,
   "metadata": {},
   "outputs": [],
   "source": [
    "# Definition for a binary tree node.\n",
    "# class TreeNode(object):\n",
    "#     def __init__(self, val = 0, left = None, right = None):\n",
    "#         self.val = val\n",
    "#         self.left = left\n",
    "#         self.right = right\n",
    "\n",
    "from collections import deque\n",
    "from typing import List\n",
    "\n",
    "class TreeNode(object):\n",
    "\tdef __init__(self, val = 0, left = None, right = None):\n",
    "\t\tself.val = val\n",
    "\t\tself.left = left\n",
    "\t\tself.right = right\n",
    "\n",
    "def build_tree(input_list):\n",
    "\tif not input_list:\n",
    "\t\treturn\n",
    "\n",
    "\troot = TreeNode(input_list[0])\n",
    "\tqueue = deque([root])\n",
    "\ti = 1\n",
    "\n",
    "\twhile queue and i < len(input_list):\n",
    "\t\tnode = queue.popleft()\n",
    "\t\t\n",
    "\t\tif i < len(input_list) and input_list[i] is not None:\n",
    "\t\t\tnode.left = TreeNode(input_list[i])\n",
    "\t\t\tqueue.append(node.left)\n",
    "\t\ti += 1\n",
    "\n",
    "\t\tif i < len(input_list) and input_list[i] is not None:\n",
    "\t\t\tnode.right = TreeNode(input_list[i])\n",
    "\t\t\tqueue.append(node.right)\n",
    "\t\ti += 1\n",
    "\t\t\n",
    "\treturn root"
   ]
  },
  {
   "cell_type": "code",
   "execution_count": 3,
   "metadata": {},
   "outputs": [],
   "source": [
    "# Function: is_duplicate(root)\n",
    "# Purpose: Find the closest duplicate value in a binary tree using Breadth-First Search (BFS).\n",
    "#\n",
    "# Logic:\n",
    "# 1. If the root is None, return -1 immediately (empty tree).\n",
    "# 2. Initialize a set called 'seen' to track visited node values.\n",
    "# 3. Use a deque as a queue to perform BFS starting from the root.\n",
    "# 4. While the queue is not empty:\n",
    "#    - Remove the first node from the queue.\n",
    "#    - If the node's value is already in 'seen', return it (this is the closest duplicate).\n",
    "#    - Otherwise, add the value to 'seen'.\n",
    "#    - If the node has a left child, add it to the queue.\n",
    "#    - If the node has a right child, add it to the queue.\n",
    "# 5. If no duplicates are found after traversing the entire tree, return -1.\n",
    "#\n",
    "# Note: The BFS traversal ensures that the first duplicate found is the one closest to the root.\n",
    "\n",
    "def is_duplicate(root: TreeNode) -> int:\n",
    "    # TODO\n",
    "    if not root:\n",
    "        return -1\n",
    "    \n",
    "    seen = set()\n",
    "    queue = deque([root])\n",
    "\n",
    "    while queue:\n",
    "        node = queue.popleft()\n",
    "\n",
    "        if node.val in seen:\n",
    "            return node.val\n",
    "        seen.add(node.val)\n",
    "\n",
    "        if node.left:\n",
    "            queue.append(node.left)\n",
    "        if node.right:\n",
    "            queue.append(node.right)\n",
    "\n",
    "    return -1             "
   ]
  },
  {
   "cell_type": "code",
   "execution_count": 4,
   "metadata": {},
   "outputs": [
    {
     "name": "stdout",
     "output_type": "stream",
     "text": [
      "10\n"
     ]
    }
   ],
   "source": [
    "root = [1, 10, 2, 3, 10, 12, 12]\n",
    "bt = build_tree(root)\n",
    "print(is_duplicate(bt))\n",
    "#Output: 10"
   ]
  },
  {
   "cell_type": "code",
   "execution_count": 5,
   "metadata": {},
   "outputs": [
    {
     "name": "stdout",
     "output_type": "stream",
     "text": [
      "-1\n"
     ]
    }
   ],
   "source": [
    "root = [10, 9, 8, 7]\n",
    "bt = build_tree(root)\n",
    "print(is_duplicate(bt))\n",
    "#Output: -1"
   ]
  },
  {
   "cell_type": "code",
   "execution_count": 6,
   "metadata": {},
   "outputs": [
    {
     "name": "stdout",
     "output_type": "stream",
     "text": [
      "9\n"
     ]
    }
   ],
   "source": [
    "root = [4, 2, 5, 9, 10, 9, 6, 3, 8, 3, 10, 7]\n",
    "bt = build_tree(root)\n",
    "print(is_duplicate(bt))"
   ]
  },
  {
   "cell_type": "markdown",
   "metadata": {},
   "source": [
    "<details>\n",
    "  <summary>Question 2</summary>\n",
    "\n",
    "  # Question Two: Path to Leaves\n",
    "\n",
    "  Given the `root` of a binary tree, return all root to leaf paths in any order.\n",
    "\n",
    "  ## Examples\n",
    "\n",
    "  ### Example 1\n",
    "\n",
    "  ![](./images/q1_ex1.png)\n",
    "\n",
    "  Input: `root = [1, 2, 2, 3, 5, 6, 7]` *What traversal method is this?*  DFS: Preorder Traversal\n",
    "\n",
    "  Output: [[1, 2, 3], [1, 2, 5], [1, 2, 6], [1, 2, 7]]\n",
    "\n",
    "  ### Example 2\n",
    "\n",
    "  ![](./images/q1_ex3.png)\n",
    "\n",
    "  Input: `root = [10, 9, 7, 8]`\n",
    "\n",
    "  Output: [[10, 7], [10, 9, 8]]\n",
    "\n",
    "</details>\n",
    "\n",
    "#### Starter Code for Question 2"
   ]
  },
  {
   "cell_type": "code",
   "execution_count": 7,
   "metadata": {},
   "outputs": [],
   "source": [
    "# Definition for a binary tree node.\n",
    "# class TreeNode(object):\n",
    "#     def __init__(self, val = 0, left = None, right = None):\n",
    "#         self.val = val\n",
    "#         self.left = left\n",
    "#         self.right = right\n",
    "\n",
    "def bt_path(root: TreeNode) -> List[List[int]]:\n",
    "    # TODO\n",
    "    def dfs(node, path, result):\n",
    "        if not node:\n",
    "            return\n",
    "        \n",
    "        path.append(node.val)\n",
    "\n",
    "        if not node.left and not node.right:\n",
    "            result.append(path[:])\n",
    "        else:\n",
    "            dfs(node.left, path, result)\n",
    "            dfs(node.right, path, result)\n",
    "        \n",
    "        path.pop()\n",
    "\n",
    "    result = []\n",
    "    dfs(root, [], result)\n",
    "    return result"
   ]
  },
  {
   "cell_type": "code",
   "execution_count": 8,
   "metadata": {},
   "outputs": [
    {
     "name": "stdout",
     "output_type": "stream",
     "text": [
      "[[1, 2, 3], [1, 2, 5], [1, 2, 6], [1, 2, 7]]\n"
     ]
    }
   ],
   "source": [
    "root = [1, 2, 2, 3, 5, 6, 7]\n",
    "bt = build_tree(root)\n",
    "print(bt_path(bt))"
   ]
  },
  {
   "cell_type": "code",
   "execution_count": 9,
   "metadata": {},
   "outputs": [
    {
     "name": "stdout",
     "output_type": "stream",
     "text": [
      "[[10, 9, 8], [10, 7]]\n"
     ]
    }
   ],
   "source": [
    "root = [10, 9, 7, 8]\n",
    "bt = build_tree(root)\n",
    "print(bt_path(bt))"
   ]
  },
  {
   "cell_type": "markdown",
   "metadata": {},
   "source": [
    "<details>\n",
    "  <summary>Question 3</summary>\n",
    "\n",
    "  # Question Three: Missing Number in Range\n",
    " \n",
    "  You are given a list containing `n` integers in the range `[0, n]`. Return a list of numbers that are missing from the range `[0, n]` of the array. If there is no missing number, return -1. Note, all the integers in the list may not be unique.\n",
    "  \n",
    "  ## Examples\n",
    "\n",
    "  ### Example 1\n",
    "\n",
    "  Input: `lst = [0, 2]`\n",
    "\n",
    "  Output: [1]\n",
    "\n",
    "  ### Example 2\n",
    "\n",
    "  Input: `lst = [5, 0, 1]`\n",
    "\n",
    "  Output: [2, 3, 4]\n",
    "\n",
    "  ### Example 3\n",
    "\n",
    "  Input: `lst = [6, 8, 2, 3, 5, 7, 0, 1, 10]`\n",
    "\n",
    "  Output: [4, 9]\n",
    "\n",
    "</details>\n",
    "\n",
    "#### Starter Code for Question 3\n"
   ]
  },
  {
   "cell_type": "code",
   "execution_count": 10,
   "metadata": {
    "scrolled": true
   },
   "outputs": [],
   "source": [
    "'''\n",
    "NOTE\n",
    "\n",
    "Original function signature provided was \n",
    "  def missing_num(nums: List) -> int:\n",
    "Confirmed in class that the signature can be\n",
    "  def missing_num(nums: List) -> List[int]:\n",
    "to handle the return of a list of numbders,\n",
    "or [-1] if there is no missing number.\n",
    "'''\n",
    "\n",
    "from typing import List\n",
    "\n",
    "def missing_num(nums: List) -> List[int]:\n",
    "  # TODO\n",
    "  '''\n",
    "  handle empty input list\n",
    "  '''\n",
    "  if not nums:\n",
    "    return [-1]\n",
    "  \n",
    "  '''\n",
    "  find max value from nums_set is more efficient as elements are unique\n",
    "  '''\n",
    "  nums_set = set(nums)\n",
    "  max_value = max(nums_set) + 1\n",
    "\n",
    "  missing = [i for i in range(max_value) if i not in nums_set]\n",
    "  return missing if missing else [-1]"
   ]
  },
  {
   "cell_type": "code",
   "execution_count": 11,
   "metadata": {},
   "outputs": [
    {
     "data": {
      "text/plain": [
       "[1]"
      ]
     },
     "execution_count": 11,
     "metadata": {},
     "output_type": "execute_result"
    }
   ],
   "source": [
    "lst = [0, 2]\n",
    "missing_num(lst)"
   ]
  },
  {
   "cell_type": "code",
   "execution_count": 12,
   "metadata": {},
   "outputs": [
    {
     "data": {
      "text/plain": [
       "[2, 3, 4]"
      ]
     },
     "execution_count": 12,
     "metadata": {},
     "output_type": "execute_result"
    }
   ],
   "source": [
    "lst = [5, 0, 1]\n",
    "missing_num(lst)"
   ]
  },
  {
   "cell_type": "code",
   "execution_count": 13,
   "metadata": {},
   "outputs": [
    {
     "data": {
      "text/plain": [
       "[4, 9]"
      ]
     },
     "execution_count": 13,
     "metadata": {},
     "output_type": "execute_result"
    }
   ],
   "source": [
    "lst = [6, 8, 2, 3, 5, 7, 0, 1, 10]\n",
    "missing_num(lst)"
   ]
  },
  {
   "cell_type": "code",
   "execution_count": 14,
   "metadata": {},
   "outputs": [
    {
     "data": {
      "text/plain": [
       "[-1]"
      ]
     },
     "execution_count": 14,
     "metadata": {},
     "output_type": "execute_result"
    }
   ],
   "source": [
    "lst = [6, 8, 2, 3, 5, 7, 0, 1, 10, 4, 9]\n",
    "missing_num(lst)"
   ]
  },
  {
   "cell_type": "code",
   "execution_count": 15,
   "metadata": {},
   "outputs": [
    {
     "data": {
      "text/plain": [
       "[-1]"
      ]
     },
     "execution_count": 15,
     "metadata": {},
     "output_type": "execute_result"
    }
   ],
   "source": [
    "lst = [5, 3, 0, 4, 2, 1]\n",
    "missing_num(lst)"
   ]
  },
  {
   "cell_type": "code",
   "execution_count": 16,
   "metadata": {},
   "outputs": [
    {
     "data": {
      "text/plain": [
       "[-1]"
      ]
     },
     "execution_count": 16,
     "metadata": {},
     "output_type": "execute_result"
    }
   ],
   "source": [
    "lst = [2, 0, 1, 3]\n",
    "missing_num(lst)"
   ]
  },
  {
   "cell_type": "code",
   "execution_count": 17,
   "metadata": {},
   "outputs": [
    {
     "data": {
      "text/plain": [
       "[0, 1, 4, 5, 6, 8]"
      ]
     },
     "execution_count": 17,
     "metadata": {},
     "output_type": "execute_result"
    }
   ],
   "source": [
    "lst = [9, 2, 3, 3, 7]\n",
    "missing_num(lst)"
   ]
  },
  {
   "cell_type": "code",
   "execution_count": 18,
   "metadata": {},
   "outputs": [
    {
     "data": {
      "text/plain": [
       "[-1]"
      ]
     },
     "execution_count": 18,
     "metadata": {},
     "output_type": "execute_result"
    }
   ],
   "source": [
    "lst = []\n",
    "missing_num(lst)"
   ]
  },
  {
   "cell_type": "markdown",
   "metadata": {
    "jp-MarkdownHeadingCollapsed": true
   },
   "source": [
    "## Part 2:\n",
    "\n",
    "You and your partner must share each other's Assignment 1 submission."
   ]
  },
  {
   "cell_type": "markdown",
   "metadata": {},
   "source": [
    "\n",
    "## Part 3:\n",
    "\n",
    "Create a Jupyter Notebook, create 6 of the following headings, and complete the following for your partner's assignment 1:\n",
    "\n",
    "-   Paraphrase the problem in your own words.\n"
   ]
  },
  {
   "cell_type": "markdown",
   "metadata": {},
   "source": [
    "### # Your answer here\n",
    "\n",
    "Given a string containing only the characters (), {}, and [], write a function to check if the brackets are properly matched and correctly nested. A valid sequence means every opening bracket has a corresponding closing bracket of the same type, and brackets close in the correct order."
   ]
  },
  {
   "cell_type": "markdown",
   "metadata": {},
   "source": [
    "\n",
    "-   Create 1 new example that demonstrates you understand the problem. Trace/walkthrough 1 example that your partner made and explain it.\n"
   ]
  },
  {
   "cell_type": "code",
   "execution_count": 19,
   "metadata": {},
   "outputs": [],
   "source": [
    "# Your answer here\n",
    "\n",
    "# This is the alternative solution that my partner explained:\n",
    "\n",
    "# Check the first value and find its corresponding match later\n",
    "# in the string. If found, remove the inner values and treat as \n",
    "# a new string and analyze recursively until no values are left. \n",
    "# If at any point a match is not found, return false.\n",
    "\n",
    "def is_valid_brackets(s: str) -> bool:\n",
    "    pairs = {'(': ')', '{': '}', '[': ']'}\n",
    "    \n",
    "    def helper(s):\n",
    "        if not s:\n",
    "            return True\n",
    "        \n",
    "        open_brac = s[0]\n",
    "        try:\n",
    "            matching_brac = pairs[open_brac]\n",
    "        except KeyError:\n",
    "            return False\n",
    "        \n",
    "        try:\n",
    "            pos_matching_brac = s.index(matching_brac, 1)\n",
    "        except ValueError:\n",
    "            return False\n",
    "\n",
    "        inner_s = s[1:pos_matching_brac]\n",
    "        rest_s = s[pos_matching_brac + 1:]\n",
    "        \n",
    "        return helper(inner_s) and helper(rest_s)\n",
    "    \n",
    "    return helper(s)\n"
   ]
  },
  {
   "cell_type": "code",
   "execution_count": 20,
   "metadata": {},
   "outputs": [
    {
     "name": "stdout",
     "output_type": "stream",
     "text": [
      "True\n",
      "False\n",
      "True\n",
      "False\n",
      "False\n",
      "True\n",
      "True\n",
      "False\n",
      "False\n",
      "False\n",
      "False\n"
     ]
    }
   ],
   "source": [
    "print(is_valid_brackets(\"([]{})\"))      # True\n",
    "print(is_valid_brackets(\"([)]\"))        # False\n",
    "print(is_valid_brackets(\"()[]{}\"))      # True\n",
    "print(is_valid_brackets(\"[{]}\"))        # False\n",
    "print(is_valid_brackets('{'))           # False\n",
    "print(is_valid_brackets(\"\"))            # True\n",
    "print(is_valid_brackets(\"([]{})\"))      # True\n",
    "print(is_valid_brackets(\"([)]\"))        # False\n",
    "print(is_valid_brackets(\")([]{}\"))      # False\n",
    "print(is_valid_brackets(\"[{]}\"))        # False\n",
    "print(is_valid_brackets(\"([)]\"))        # False"
   ]
  },
  {
   "cell_type": "markdown",
   "metadata": {},
   "source": [
    "\n",
    "-   Copy the solution your partner wrote. \n"
   ]
  },
  {
   "cell_type": "code",
   "execution_count": 21,
   "metadata": {},
   "outputs": [],
   "source": [
    "# Your answer here\n",
    "\n",
    "def is_valid_brackets(s: str) -> bool:\n",
    "    stack = []\n",
    "    for char in s:\n",
    "        if char in \"({[\":\n",
    "            stack.append(char)\n",
    "        elif char in \")}]\":\n",
    "            if not stack:\n",
    "                return False\n",
    "            top = stack.pop()\n",
    "            if (top == '(' and char != ')') or \\\n",
    "               (top == '{' and char != '}') or \\\n",
    "               (top == '[' and char != ']'):\n",
    "                return False\n",
    "    return len(stack) == 0"
   ]
  },
  {
   "cell_type": "markdown",
   "metadata": {},
   "source": [
    "\n",
    "-   Explain why their solution works in your own words.\n"
   ]
  },
  {
   "cell_type": "markdown",
   "metadata": {},
   "source": [
    "## # Your answer here\n",
    "\n",
    "This solution effectively uses a stack to enforce the two rules of a valid bracket sequence:\n",
    "\n",
    "1. Open brackets must be closed by the same type.\n",
    "\n",
    "2. Brackets must close in the correct order.\n",
    "\n",
    "A stack is ideal for this because it's a Last-In, First-Out (LIFO) structure, which naturally mirrors how nested brackets work. The algorithm processes each character in the string exactly once using a for loop.\n",
    "\n",
    "- If the character is an opening bracket, it gets pushed onto the stack.\n",
    "\n",
    "- If it's a closing bracket, the code pops the top of the stack and checks whether it matches the expected opening bracket.\n",
    "\n",
    "- If the stack is empty or the brackets don’t match, the function returns False.\n",
    "\n",
    "At the end of the loop, the function returns True only if the stack is empty — meaning every opening bracket had a matching closing bracket in the correct order."
   ]
  },
  {
   "cell_type": "markdown",
   "metadata": {},
   "source": [
    "\n",
    "-   Explain the problem’s time and space complexity in your own words.\n"
   ]
  },
  {
   "cell_type": "markdown",
   "metadata": {},
   "source": [
    "## # Your answer here\n",
    "\n",
    "Time Complexity:\n",
    "Each character in the input string is processed exactly once in the for loop. All operations inside the loop — such as checking bracket type, pushing to the stack, popping from the stack, and comparing brackets — are constant time operations. Therefore, the overall time complexity is: O(n)\n",
    "\n",
    "Space Complexity:\n",
    "In the worst-case scenario, the input string contains only opening brackets (e.g., \"({[[(((\"), which means every character gets pushed onto the stack without being popped. This leads to a maximum stack size of 𝑛, so the space complexity is: O(n)"
   ]
  },
  {
   "cell_type": "markdown",
   "metadata": {},
   "source": [
    "\n",
    "-   Critique your partner's solution, including explanation, and if there is anything that should be adjusted.\n"
   ]
  },
  {
   "cell_type": "markdown",
   "metadata": {},
   "source": [
    "## # Your answer here\n",
    "\n",
    "My partner's solution correctly validates bracket sequences using a stack. The logic is sound and adheres to the rules of matching brackets in the correct order. It is efficient, with a time complexity of O(n) and a space complexity of O(n), since each character is processed once and the stack may grow to the size of the input in the worst case. The function also returns False immediately when a mismatch is detected or when a closing bracket appears without a corresponding opening bracket, which makes it both fast and reliable. Overall, the code is simple and readable.\n",
    "\n",
    "For improved maintainability, instead of hardcoding bracket characters like \"({[\" and \")}]\" in conditional checks, it's better to use a dictionary to define bracket pairs:\n",
    "\n",
    "        pairs = {'{': '}', '(': ')', '[': ']'}\n",
    "    \n",
    "This makes the code easier to extend and reduces duplication.\n",
    "\n",
    "Additionally, the final return statement:\n",
    "\n",
    "        return len(stack) == 0\n",
    "\n",
    "can be simplified to:\n",
    "\n",
    "        return not stack\n",
    "\n",
    "This conveys the same meaning in a cleaner way."
   ]
  },
  {
   "cell_type": "markdown",
   "metadata": {},
   "source": [
    "\n",
    "## Part 4:\n",
    "\n",
    "Please write a 200 word reflection documenting your process from assignment 1, and your presentation and review experience with your partner at the bottom of the Jupyter Notebook under a new heading \"Reflection.\" Again, export this Notebook as pdf.\n"
   ]
  },
  {
   "cell_type": "markdown",
   "metadata": {},
   "source": [
    "### Reflection"
   ]
  },
  {
   "cell_type": "markdown",
   "metadata": {},
   "source": [
    "## # Your answer here\n",
    "\n",
    "Working through all these Python solutions has been both challenging and rewarding. As a beginner learning Python, the learning curve has been steep — starting from simple built-in functions like print() and progressing all the way to building binary trees. Each problem offered multiple ways to approach a solution, and every assignment pushed me to think critically about logic, structure, and efficiency.\n",
    "I’ve gained a deeper understanding of core programming concepts like recursion, stack operations, and time and space complexity — not just how they work, but why they matter. One of the biggest takeaways was realizing how different approaches — such as recursion vs. iteration, or nested loops vs. linear iteration — can solve the same problem, each with its own trade-offs.\n",
    "I also learned how to write cleaner, more maintainable code by using dictionaries, simplifying return statements, and avoiding hardcoded values. The final assignment even introduced opportunities to build reusable classes, which helped me think more modularly and design code with scalability in mind.\n",
    "Beyond technical skills, this process helped me build confidence in debugging, testing, and clearly explaining my reasoning — which is just as important as writing the code itself. Overall, writing these solutions has strengthened my problem-solving mindset and made me more comfortable tackling unfamiliar challenges with a structured and thoughtful approach."
   ]
  },
  {
   "cell_type": "markdown",
   "metadata": {},
   "source": [
    "\n",
    "## Evaluation Criteria\n",
    "\n",
    "We are looking for the similar points as Assignment 1\n",
    "\n",
    "-   Problem is accurately stated\n",
    "\n",
    "-   New example is correct and easily understandable\n",
    "\n",
    "-   Correctness, time, and space complexity of the coding solution\n",
    "\n",
    "-   Clarity in explaining why the solution works, its time and space complexity\n",
    "\n",
    "-   Quality of critique of your partner's assignment, if necessary\n"
   ]
  },
  {
   "cell_type": "markdown",
   "metadata": {},
   "source": [
    "## Submission Information\n",
    "\n",
    "🚨 **Please review our [Assignment Submission Guide](https://github.com/UofT-DSI/onboarding/blob/main/onboarding_documents/submissions.md)** 🚨 for detailed instructions on how to format, branch, and submit your work. Following these guidelines is crucial for your submissions to be evaluated correctly.\n",
    "\n",
    "### Submission Parameters:\n",
    "* Submission Due Date: `HH:MM AM/PM - DD/MM/YYYY`\n",
    "* The branch name for your repo should be: `assignment-2`\n",
    "* What to submit for this assignment:\n",
    "    * This Jupyter Notebook (assignment_2.ipynb) should be populated and should be the only change in your pull request.\n",
    "* What the pull request link should look like for this assignment: `https://github.com/<your_github_username>/algorithms_and_data_structures/pull/<pr_id>`\n",
    "    * Open a private window in your browser. Copy and paste the link to your pull request into the address bar. Make sure you can see your pull request properly. This helps the technical facilitator and learning support staff review your submission easily.\n",
    "\n",
    "Checklist:\n",
    "- [ ] Created a branch with the correct naming convention.\n",
    "- [ ] Ensured that the repository is public.\n",
    "- [ ] Reviewed the PR description guidelines and adhered to them.\n",
    "- [ ] Verify that the link is accessible in a private browser window.\n",
    "\n",
    "If you encounter any difficulties or have questions, please don't hesitate to reach out to our team via our Slack at `#cohort-6-help`. Our Technical Facilitators and Learning Support staff are here to help you navigate any challenges.\n"
   ]
  },
  {
   "cell_type": "code",
   "execution_count": null,
   "metadata": {},
   "outputs": [],
   "source": []
  }
 ],
 "metadata": {
  "kernelspec": {
   "display_name": "dsi_participant",
   "language": "python",
   "name": "python3"
  },
  "language_info": {
   "codemirror_mode": {
    "name": "ipython",
    "version": 3
   },
   "file_extension": ".py",
   "mimetype": "text/x-python",
   "name": "python",
   "nbconvert_exporter": "python",
   "pygments_lexer": "ipython3",
   "version": "3.9.18"
  }
 },
 "nbformat": 4,
 "nbformat_minor": 4
}
